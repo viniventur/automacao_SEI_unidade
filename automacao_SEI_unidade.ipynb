{
 "cells": [
  {
   "cell_type": "code",
   "execution_count": 263,
   "metadata": {},
   "outputs": [],
   "source": [
    "import pandas as pd\n",
    "import os\n",
    "from dotenv import load_dotenv, dotenv_values\n",
    "env = dotenv_values('.env')\n",
    "\n",
    "from selenium import webdriver\n",
    "from selenium.webdriver.chrome.options import Options\n",
    "from selenium.webdriver.common.by import By\n",
    "from selenium.webdriver.support.ui import Select\n",
    "from selenium.webdriver.common.keys import Keys\n",
    "import pyautogui\n",
    "import requests\n",
    "from bs4 import BeautifulSoup\n",
    "\n",
    "\n",
    "import time"
   ]
  },
  {
   "cell_type": "markdown",
   "metadata": {},
   "source": [
    "# 1. Entrar no SEI"
   ]
  },
  {
   "cell_type": "code",
   "execution_count": 267,
   "metadata": {},
   "outputs": [
    {
     "name": "stderr",
     "output_type": "stream",
     "text": [
      "Exception managing chrome: error sending request for url (https://googlechromelabs.github.io/chrome-for-testing/known-good-versions-with-downloads.json)\n"
     ]
    }
   ],
   "source": [
    "driver = webdriver.Chrome()\n",
    "driver.get(env['SITE_SEI'])"
   ]
  },
  {
   "cell_type": "markdown",
   "metadata": {},
   "source": [
    "# 2. Login"
   ]
  },
  {
   "cell_type": "code",
   "execution_count": 269,
   "metadata": {},
   "outputs": [],
   "source": [
    "usuario_sei = env['CPF_SEI']\n",
    "senha_sei = env['SENHA_SEI']"
   ]
  },
  {
   "cell_type": "code",
   "execution_count": 271,
   "metadata": {},
   "outputs": [],
   "source": [
    "driver.find_element(\"xpath\", '//*[@id=\"txtUsuario\"]').send_keys(usuario_sei)\n",
    "driver.find_element(\"xpath\", '//*[@id=\"pwdSenha\"]').send_keys(senha_sei)\n",
    "driver.find_element(\"xpath\", '//*[@id=\"selOrgao\"]').send_keys('CGE')\n",
    "driver.find_element(\"xpath\", '//*[@id=\"sbmLogin\"]').click()\n",
    "\n",
    "# SELECIONAR UNIDADE CERTA\n",
    "\n",
    "unidade_usuario = driver.find_element(\"xpath\", '//*[@id=\"selInfraUnidades\"]')\n",
    "Select(unidade_usuario).select_by_visible_text(env['UNIDADE'])"
   ]
  },
  {
   "cell_type": "markdown",
   "metadata": {},
   "source": [
    "# 3. Consulta do Processo"
   ]
  },
  {
   "cell_type": "code",
   "execution_count": 272,
   "metadata": {},
   "outputs": [
    {
     "data": {
      "text/html": [
       "<div>\n",
       "<style scoped>\n",
       "    .dataframe tbody tr th:only-of-type {\n",
       "        vertical-align: middle;\n",
       "    }\n",
       "\n",
       "    .dataframe tbody tr th {\n",
       "        vertical-align: top;\n",
       "    }\n",
       "\n",
       "    .dataframe thead th {\n",
       "        text-align: right;\n",
       "    }\n",
       "</style>\n",
       "<table border=\"1\" class=\"dataframe\">\n",
       "  <thead>\n",
       "    <tr style=\"text-align: right;\">\n",
       "      <th></th>\n",
       "      <th>Processo Mãe</th>\n",
       "      <th>Data Horário</th>\n",
       "      <th>Unidade Atual</th>\n",
       "      <th>Usuário CPF</th>\n",
       "      <th>Descrição</th>\n",
       "    </tr>\n",
       "  </thead>\n",
       "  <tbody>\n",
       "    <tr>\n",
       "      <th>0</th>\n",
       "      <td>E:35032.0000003108/2024</td>\n",
       "      <td>NaN</td>\n",
       "      <td>NaN</td>\n",
       "      <td>NaN</td>\n",
       "      <td>NaN</td>\n",
       "    </tr>\n",
       "    <tr>\n",
       "      <th>1</th>\n",
       "      <td>E:44080.0000000488/2023</td>\n",
       "      <td>NaN</td>\n",
       "      <td>NaN</td>\n",
       "      <td>NaN</td>\n",
       "      <td>NaN</td>\n",
       "    </tr>\n",
       "    <tr>\n",
       "      <th>2</th>\n",
       "      <td>E:04799.0000000732/2024</td>\n",
       "      <td>NaN</td>\n",
       "      <td>NaN</td>\n",
       "      <td>NaN</td>\n",
       "      <td>NaN</td>\n",
       "    </tr>\n",
       "    <tr>\n",
       "      <th>3</th>\n",
       "      <td>E:01204.0000006582/2024</td>\n",
       "      <td>NaN</td>\n",
       "      <td>NaN</td>\n",
       "      <td>NaN</td>\n",
       "      <td>NaN</td>\n",
       "    </tr>\n",
       "    <tr>\n",
       "      <th>4</th>\n",
       "      <td>E:01104.0000000216/2024</td>\n",
       "      <td>NaN</td>\n",
       "      <td>NaN</td>\n",
       "      <td>NaN</td>\n",
       "      <td>NaN</td>\n",
       "    </tr>\n",
       "    <tr>\n",
       "      <th>...</th>\n",
       "      <td>...</td>\n",
       "      <td>...</td>\n",
       "      <td>...</td>\n",
       "      <td>...</td>\n",
       "      <td>...</td>\n",
       "    </tr>\n",
       "    <tr>\n",
       "      <th>74</th>\n",
       "      <td>E:34000.0000027813/2024</td>\n",
       "      <td>NaN</td>\n",
       "      <td>NaN</td>\n",
       "      <td>NaN</td>\n",
       "      <td>NaN</td>\n",
       "    </tr>\n",
       "    <tr>\n",
       "      <th>75</th>\n",
       "      <td>E:02100.0000004489/2024</td>\n",
       "      <td>NaN</td>\n",
       "      <td>NaN</td>\n",
       "      <td>NaN</td>\n",
       "      <td>NaN</td>\n",
       "    </tr>\n",
       "    <tr>\n",
       "      <th>76</th>\n",
       "      <td>E:02102.0000005279/2024</td>\n",
       "      <td>NaN</td>\n",
       "      <td>NaN</td>\n",
       "      <td>NaN</td>\n",
       "      <td>NaN</td>\n",
       "    </tr>\n",
       "    <tr>\n",
       "      <th>77</th>\n",
       "      <td>E:03300.0000002332/2024</td>\n",
       "      <td>NaN</td>\n",
       "      <td>NaN</td>\n",
       "      <td>NaN</td>\n",
       "      <td>NaN</td>\n",
       "    </tr>\n",
       "    <tr>\n",
       "      <th>78</th>\n",
       "      <td>E:34000.0000043038/2024</td>\n",
       "      <td>NaN</td>\n",
       "      <td>NaN</td>\n",
       "      <td>NaN</td>\n",
       "      <td>NaN</td>\n",
       "    </tr>\n",
       "  </tbody>\n",
       "</table>\n",
       "<p>79 rows × 5 columns</p>\n",
       "</div>"
      ],
      "text/plain": [
       "               Processo Mãe  Data Horário  Unidade Atual  Usuário CPF  \\\n",
       "0   E:35032.0000003108/2024           NaN            NaN          NaN   \n",
       "1   E:44080.0000000488/2023           NaN            NaN          NaN   \n",
       "2   E:04799.0000000732/2024           NaN            NaN          NaN   \n",
       "3   E:01204.0000006582/2024           NaN            NaN          NaN   \n",
       "4   E:01104.0000000216/2024           NaN            NaN          NaN   \n",
       "..                      ...           ...            ...          ...   \n",
       "74  E:34000.0000027813/2024           NaN            NaN          NaN   \n",
       "75  E:02100.0000004489/2024           NaN            NaN          NaN   \n",
       "76  E:02102.0000005279/2024           NaN            NaN          NaN   \n",
       "77  E:03300.0000002332/2024           NaN            NaN          NaN   \n",
       "78  E:34000.0000043038/2024           NaN            NaN          NaN   \n",
       "\n",
       "    Descrição  \n",
       "0         NaN  \n",
       "1         NaN  \n",
       "2         NaN  \n",
       "3         NaN  \n",
       "4         NaN  \n",
       "..        ...  \n",
       "74        NaN  \n",
       "75        NaN  \n",
       "76        NaN  \n",
       "77        NaN  \n",
       "78        NaN  \n",
       "\n",
       "[79 rows x 5 columns]"
      ]
     },
     "execution_count": 272,
     "metadata": {},
     "output_type": "execute_result"
    }
   ],
   "source": [
    "# importando o df com os processos\n",
    "\n",
    "df = pd.read_excel('lista_processos.xlsx')\n",
    "df"
   ]
  },
  {
   "cell_type": "code",
   "execution_count": 275,
   "metadata": {},
   "outputs": [
    {
     "data": {
      "text/plain": [
       "'E:35032.0000003108/2024'"
      ]
     },
     "execution_count": 275,
     "metadata": {},
     "output_type": "execute_result"
    }
   ],
   "source": [
    "df.iloc[0 , 0]"
   ]
  },
  {
   "cell_type": "code",
   "execution_count": null,
   "metadata": {},
   "outputs": [],
   "source": [
    "df"
   ]
  },
  {
   "cell_type": "code",
   "execution_count": null,
   "metadata": {},
   "outputs": [],
   "source": [
    "time.sleep(2)\n",
    "driver.find_element(\"xpath\", '//*[@id=\"txtPesquisaRapida\"]').send_keys(processos)\n",
    "driver.find_element(\"xpath\", '//*[@id=\"txtPesquisaRapida\"]').send_keys(Keys.ENTER)"
   ]
  },
  {
   "cell_type": "markdown",
   "metadata": {},
   "source": [
    "# 4. Pegar a unidade atual"
   ]
  },
  {
   "cell_type": "code",
   "execution_count": 228,
   "metadata": {},
   "outputs": [],
   "source": [
    "# Alternar para o iframe 'ifrArvore'\n",
    "iframe_arvore = driver.find_element('name', \"ifrArvore\")\n",
    "driver.switch_to.frame(iframe_arvore)"
   ]
  },
  {
   "cell_type": "code",
   "execution_count": 229,
   "metadata": {},
   "outputs": [],
   "source": [
    "driver.find_element(\"xpath\", '//*[@id=\"divConsultarAndamento\"]/a/span').click() # consultar andamento"
   ]
  },
  {
   "cell_type": "code",
   "execution_count": 253,
   "metadata": {},
   "outputs": [],
   "source": [
    "# Alternar para o iframe 'ifrVisualizacao'\n",
    "driver.switch_to.default_content()\n",
    "iframe_visualizacao = driver.find_element('name', \"ifrVisualizacao\")\n",
    "driver.switch_to.frame(iframe_visualizacao)"
   ]
  },
  {
   "cell_type": "code",
   "execution_count": 257,
   "metadata": {},
   "outputs": [
    {
     "name": "stdout",
     "output_type": "stream",
     "text": [
      "13293502431\n"
     ]
    }
   ],
   "source": [
    "data_hora = driver.find_element('xpath', '//*[@id=\"tblHistorico\"]/tbody/tr[2]/td[1]').text  # XPath para 1ª linha, coluna 1 (data hora)\n",
    "unidade = driver.find_element('xpath', '//*[@id=\"tblHistorico\"]/tbody/tr[2]/td[2]').text  # XPath para 1ª linha, coluna 2 (Unidade)\n",
    "usuario = driver.find_element('xpath', '//*[@id=\"tblHistorico\"]/tbody/tr[2]/td[3]').text  # XPath para 1ª linha, coluna 3 (usuario)\n",
    "descricao = driver.find_element('xpath', '//*[@id=\"tblHistorico\"]/tbody/tr[2]/td[4]').text  # XPath para 1ª linha, coluna 4 (descricao)\n",
    "print(usuario)"
   ]
  },
  {
   "cell_type": "code",
   "execution_count": 161,
   "metadata": {},
   "outputs": [],
   "source": [
    "# Voltar ao contexto principal\n",
    "driver.switch_to.default_content()"
   ]
  },
  {
   "cell_type": "markdown",
   "metadata": {},
   "source": [
    "# Looping"
   ]
  },
  {
   "cell_type": "code",
   "execution_count": 262,
   "metadata": {},
   "outputs": [
    {
     "data": {
      "text/plain": [
       "Index(['Processo Mãe', 'Data Horário', 'Unidade Atual', 'Usuário CPF',\n",
       "       'Descrição'],\n",
       "      dtype='object')"
      ]
     },
     "execution_count": 262,
     "metadata": {},
     "output_type": "execute_result"
    }
   ],
   "source": [
    "df.columns"
   ]
  },
  {
   "cell_type": "code",
   "execution_count": 273,
   "metadata": {},
   "outputs": [
    {
     "name": "stderr",
     "output_type": "stream",
     "text": [
      "C:\\Users\\vinicius.ventura\\AppData\\Local\\Temp\\ipykernel_15012\\115940481.py:32: FutureWarning: Setting an item of incompatible dtype is deprecated and will raise an error in a future version of pandas. Value '31/10/2024 08:00' has dtype incompatible with float64, please explicitly cast to a compatible dtype first.\n",
      "  df.loc[df['Processo Mãe'] == processo, ['Data Horário', 'Unidade Atual', 'Usuário CPF', 'Descrição']] = [\n",
      "C:\\Users\\vinicius.ventura\\AppData\\Local\\Temp\\ipykernel_15012\\115940481.py:32: FutureWarning: Setting an item of incompatible dtype is deprecated and will raise an error in a future version of pandas. Value 'CGE PDTR' has dtype incompatible with float64, please explicitly cast to a compatible dtype first.\n",
      "  df.loc[df['Processo Mãe'] == processo, ['Data Horário', 'Unidade Atual', 'Usuário CPF', 'Descrição']] = [\n",
      "C:\\Users\\vinicius.ventura\\AppData\\Local\\Temp\\ipykernel_15012\\115940481.py:32: FutureWarning: Setting an item of incompatible dtype is deprecated and will raise an error in a future version of pandas. Value '12640788469' has dtype incompatible with float64, please explicitly cast to a compatible dtype first.\n",
      "  df.loc[df['Processo Mãe'] == processo, ['Data Horário', 'Unidade Atual', 'Usuário CPF', 'Descrição']] = [\n",
      "C:\\Users\\vinicius.ventura\\AppData\\Local\\Temp\\ipykernel_15012\\115940481.py:32: FutureWarning: Setting an item of incompatible dtype is deprecated and will raise an error in a future version of pandas. Value 'Processo recebido na unidade' has dtype incompatible with float64, please explicitly cast to a compatible dtype first.\n",
      "  df.loc[df['Processo Mãe'] == processo, ['Data Horário', 'Unidade Atual', 'Usuário CPF', 'Descrição']] = [\n"
     ]
    },
    {
     "ename": "KeyboardInterrupt",
     "evalue": "",
     "output_type": "error",
     "traceback": [
      "\u001b[1;31m---------------------------------------------------------------------------\u001b[0m",
      "\u001b[1;31mKeyboardInterrupt\u001b[0m                         Traceback (most recent call last)",
      "Cell \u001b[1;32mIn[273], line 2\u001b[0m\n\u001b[0;32m      1\u001b[0m \u001b[38;5;28;01mfor\u001b[39;00m processo \u001b[38;5;129;01min\u001b[39;00m df[\u001b[38;5;124m'\u001b[39m\u001b[38;5;124mProcesso Mãe\u001b[39m\u001b[38;5;124m'\u001b[39m]:\n\u001b[1;32m----> 2\u001b[0m     \u001b[43mtime\u001b[49m\u001b[38;5;241;43m.\u001b[39;49m\u001b[43msleep\u001b[49m\u001b[43m(\u001b[49m\u001b[38;5;241;43m2\u001b[39;49m\u001b[43m)\u001b[49m\n\u001b[0;32m      3\u001b[0m     driver\u001b[38;5;241m.\u001b[39mfind_element(\u001b[38;5;124m\"\u001b[39m\u001b[38;5;124mxpath\u001b[39m\u001b[38;5;124m\"\u001b[39m, \u001b[38;5;124m'\u001b[39m\u001b[38;5;124m//*[@id=\u001b[39m\u001b[38;5;124m\"\u001b[39m\u001b[38;5;124mtxtPesquisaRapida\u001b[39m\u001b[38;5;124m\"\u001b[39m\u001b[38;5;124m]\u001b[39m\u001b[38;5;124m'\u001b[39m)\u001b[38;5;241m.\u001b[39msend_keys(processo)\n\u001b[0;32m      4\u001b[0m     driver\u001b[38;5;241m.\u001b[39mfind_element(\u001b[38;5;124m\"\u001b[39m\u001b[38;5;124mxpath\u001b[39m\u001b[38;5;124m\"\u001b[39m, \u001b[38;5;124m'\u001b[39m\u001b[38;5;124m//*[@id=\u001b[39m\u001b[38;5;124m\"\u001b[39m\u001b[38;5;124mtxtPesquisaRapida\u001b[39m\u001b[38;5;124m\"\u001b[39m\u001b[38;5;124m]\u001b[39m\u001b[38;5;124m'\u001b[39m)\u001b[38;5;241m.\u001b[39msend_keys(Keys\u001b[38;5;241m.\u001b[39mENTER)\n",
      "\u001b[1;31mKeyboardInterrupt\u001b[0m: "
     ]
    }
   ],
   "source": [
    "for processo in df['Processo Mãe']:\n",
    "    time.sleep(2)\n",
    "    driver.find_element(\"xpath\", '//*[@id=\"txtPesquisaRapida\"]').send_keys(processo)\n",
    "    driver.find_element(\"xpath\", '//*[@id=\"txtPesquisaRapida\"]').send_keys(Keys.ENTER)\n",
    "\n",
    "    # Alternar para o iframe 'ifrArvore'\n",
    "    iframe_arvore = driver.find_element('name', \"ifrArvore\")\n",
    "    driver.switch_to.frame(iframe_arvore)\n",
    "\n",
    "    driver.find_element(\"xpath\", '//*[@id=\"divConsultarAndamento\"]/a/span').click() # consultar andamento\n",
    "        \n",
    "    # Alternar para o iframe 'ifrVisualizacao'\n",
    "    driver.switch_to.default_content()\n",
    "    iframe_visualizacao = driver.find_element('name', \"ifrVisualizacao\")\n",
    "    driver.switch_to.frame(iframe_visualizacao)\n",
    "\n",
    "    # Extrai os dados da primeira linha da tabela\n",
    "    data_hora = driver.find_element(By.XPATH, '//*[@id=\"tblHistorico\"]/tbody/tr[2]/td[1]').text  # Coluna 1: Data/Horário\n",
    "    unidade = driver.find_element(By.XPATH, '//*[@id=\"tblHistorico\"]/tbody/tr[2]/td[2]').text    # Coluna 2: Unidade\n",
    "    usuario = driver.find_element(By.XPATH, '//*[@id=\"tblHistorico\"]/tbody/tr[2]/td[3]').text    # Coluna 3: Usuário\n",
    "    descricao = driver.find_element(By.XPATH, '//*[@id=\"tblHistorico\"]/tbody/tr[2]/td[4]').text  # Coluna 4: Descrição\n",
    "\n",
    "    # Cria um dicionário para organizar os dados extraídos\n",
    "    dados = {\n",
    "        \"Data Horário\": data_hora,\n",
    "        \"Unidade Atual\": unidade,\n",
    "        \"Usuário CPF\": usuario,\n",
    "        \"Descrição\": descricao\n",
    "    }\n",
    "\n",
    "    # Atualiza o DataFrame de forma mais eficiente\n",
    "    df.loc[df['Processo Mãe'] == processo, ['Data Horário', 'Unidade Atual', 'Usuário CPF', 'Descrição']] = [\n",
    "        dados[\"Data Horário\"], dados[\"Unidade Atual\"], dados[\"Usuário CPF\"], dados[\"Descrição\"]\n",
    "    ]\n",
    "\n",
    "    # Voltar ao contexto principal\n",
    "    driver.switch_to.default_content()"
   ]
  },
  {
   "cell_type": "code",
   "execution_count": 274,
   "metadata": {},
   "outputs": [
    {
     "data": {
      "text/html": [
       "<div>\n",
       "<style scoped>\n",
       "    .dataframe tbody tr th:only-of-type {\n",
       "        vertical-align: middle;\n",
       "    }\n",
       "\n",
       "    .dataframe tbody tr th {\n",
       "        vertical-align: top;\n",
       "    }\n",
       "\n",
       "    .dataframe thead th {\n",
       "        text-align: right;\n",
       "    }\n",
       "</style>\n",
       "<table border=\"1\" class=\"dataframe\">\n",
       "  <thead>\n",
       "    <tr style=\"text-align: right;\">\n",
       "      <th></th>\n",
       "      <th>Processo Mãe</th>\n",
       "      <th>Data Horário</th>\n",
       "      <th>Unidade Atual</th>\n",
       "      <th>Usuário CPF</th>\n",
       "      <th>Descrição</th>\n",
       "    </tr>\n",
       "  </thead>\n",
       "  <tbody>\n",
       "    <tr>\n",
       "      <th>0</th>\n",
       "      <td>E:35032.0000003108/2024</td>\n",
       "      <td>31/10/2024 08:00</td>\n",
       "      <td>CGE PDTR</td>\n",
       "      <td>12640788469</td>\n",
       "      <td>Processo recebido na unidade</td>\n",
       "    </tr>\n",
       "    <tr>\n",
       "      <th>1</th>\n",
       "      <td>E:44080.0000000488/2023</td>\n",
       "      <td>06/12/2024 08:33</td>\n",
       "      <td>CGE PDTR</td>\n",
       "      <td>13293502431</td>\n",
       "      <td>Conclusão do processo na unidade</td>\n",
       "    </tr>\n",
       "    <tr>\n",
       "      <th>2</th>\n",
       "      <td>E:04799.0000000732/2024</td>\n",
       "      <td>05/12/2024 11:31</td>\n",
       "      <td>CGE PDTR</td>\n",
       "      <td>10343116464</td>\n",
       "      <td>Conclusão do processo na unidade</td>\n",
       "    </tr>\n",
       "    <tr>\n",
       "      <th>3</th>\n",
       "      <td>E:01204.0000006582/2024</td>\n",
       "      <td>06/12/2024 10:29</td>\n",
       "      <td>CGE PDTR</td>\n",
       "      <td>13293502431</td>\n",
       "      <td>Conclusão do processo na unidade</td>\n",
       "    </tr>\n",
       "    <tr>\n",
       "      <th>4</th>\n",
       "      <td>E:01104.0000000216/2024</td>\n",
       "      <td>05/12/2024 10:12</td>\n",
       "      <td>CGE PDTR</td>\n",
       "      <td>13293502431</td>\n",
       "      <td>Conclusão do processo na unidade</td>\n",
       "    </tr>\n",
       "    <tr>\n",
       "      <th>...</th>\n",
       "      <td>...</td>\n",
       "      <td>...</td>\n",
       "      <td>...</td>\n",
       "      <td>...</td>\n",
       "      <td>...</td>\n",
       "    </tr>\n",
       "    <tr>\n",
       "      <th>74</th>\n",
       "      <td>E:34000.0000027813/2024</td>\n",
       "      <td>NaN</td>\n",
       "      <td>NaN</td>\n",
       "      <td>NaN</td>\n",
       "      <td>NaN</td>\n",
       "    </tr>\n",
       "    <tr>\n",
       "      <th>75</th>\n",
       "      <td>E:02100.0000004489/2024</td>\n",
       "      <td>NaN</td>\n",
       "      <td>NaN</td>\n",
       "      <td>NaN</td>\n",
       "      <td>NaN</td>\n",
       "    </tr>\n",
       "    <tr>\n",
       "      <th>76</th>\n",
       "      <td>E:02102.0000005279/2024</td>\n",
       "      <td>NaN</td>\n",
       "      <td>NaN</td>\n",
       "      <td>NaN</td>\n",
       "      <td>NaN</td>\n",
       "    </tr>\n",
       "    <tr>\n",
       "      <th>77</th>\n",
       "      <td>E:03300.0000002332/2024</td>\n",
       "      <td>NaN</td>\n",
       "      <td>NaN</td>\n",
       "      <td>NaN</td>\n",
       "      <td>NaN</td>\n",
       "    </tr>\n",
       "    <tr>\n",
       "      <th>78</th>\n",
       "      <td>E:34000.0000043038/2024</td>\n",
       "      <td>NaN</td>\n",
       "      <td>NaN</td>\n",
       "      <td>NaN</td>\n",
       "      <td>NaN</td>\n",
       "    </tr>\n",
       "  </tbody>\n",
       "</table>\n",
       "<p>79 rows × 5 columns</p>\n",
       "</div>"
      ],
      "text/plain": [
       "               Processo Mãe      Data Horário Unidade Atual  Usuário CPF  \\\n",
       "0   E:35032.0000003108/2024  31/10/2024 08:00      CGE PDTR  12640788469   \n",
       "1   E:44080.0000000488/2023  06/12/2024 08:33      CGE PDTR  13293502431   \n",
       "2   E:04799.0000000732/2024  05/12/2024 11:31      CGE PDTR  10343116464   \n",
       "3   E:01204.0000006582/2024  06/12/2024 10:29      CGE PDTR  13293502431   \n",
       "4   E:01104.0000000216/2024  05/12/2024 10:12      CGE PDTR  13293502431   \n",
       "..                      ...               ...           ...          ...   \n",
       "74  E:34000.0000027813/2024               NaN           NaN          NaN   \n",
       "75  E:02100.0000004489/2024               NaN           NaN          NaN   \n",
       "76  E:02102.0000005279/2024               NaN           NaN          NaN   \n",
       "77  E:03300.0000002332/2024               NaN           NaN          NaN   \n",
       "78  E:34000.0000043038/2024               NaN           NaN          NaN   \n",
       "\n",
       "                           Descrição  \n",
       "0       Processo recebido na unidade  \n",
       "1   Conclusão do processo na unidade  \n",
       "2   Conclusão do processo na unidade  \n",
       "3   Conclusão do processo na unidade  \n",
       "4   Conclusão do processo na unidade  \n",
       "..                               ...  \n",
       "74                               NaN  \n",
       "75                               NaN  \n",
       "76                               NaN  \n",
       "77                               NaN  \n",
       "78                               NaN  \n",
       "\n",
       "[79 rows x 5 columns]"
      ]
     },
     "execution_count": 274,
     "metadata": {},
     "output_type": "execute_result"
    }
   ],
   "source": [
    "df"
   ]
  }
 ],
 "metadata": {
  "kernelspec": {
   "display_name": "venv",
   "language": "python",
   "name": "python3"
  },
  "language_info": {
   "codemirror_mode": {
    "name": "ipython",
    "version": 3
   },
   "file_extension": ".py",
   "mimetype": "text/x-python",
   "name": "python",
   "nbconvert_exporter": "python",
   "pygments_lexer": "ipython3",
   "version": "3.12.4"
  }
 },
 "nbformat": 4,
 "nbformat_minor": 2
}
